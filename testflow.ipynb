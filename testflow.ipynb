{
 "cells": [
  {
   "cell_type": "code",
   "execution_count": 11,
   "metadata": {},
   "outputs": [],
   "source": [
    "import pandas as pd\n",
    "from functions import calc, retrieve, visualize as viz\n",
    "\n",
    "import warnings\n",
    "warnings.filterwarnings('ignore')\n",
    "import yfinance as yf"
   ]
  },
  {
   "cell_type": "code",
   "execution_count": 8,
   "metadata": {},
   "outputs": [
    {
     "data": {
      "text/plain": [
       "{'__name__': '__main__',\n",
       " '__doc__': 'Automatically created module for IPython interactive environment',\n",
       " '__package__': None,\n",
       " '__loader__': None,\n",
       " '__spec__': None,\n",
       " '__builtin__': <module 'builtins' (built-in)>,\n",
       " '__builtins__': <module 'builtins' (built-in)>,\n",
       " '_ih': ['',\n",
       "  'a = 1',\n",
       "  'locals()',\n",
       "  'locals().a',\n",
       "  \"locals()['a']\",\n",
       "  'if (\\'a\\' in locals()): print (\"Is\")',\n",
       "  'if (\\'b\\' in locals()): print (\"Is\")',\n",
       "  'a = 1\\nlocals()',\n",
       "  'a = 1\\nb = 2\\nlocals()'],\n",
       " '_oh': {2: {...}, 4: 1, 7: {...}},\n",
       " '_dh': [PosixPath('/Users/mireiasanchez/Documents/pablo/TA_Lib_Local'),\n",
       "  PosixPath('/Users/mireiasanchez/Documents/pablo/TA_Lib_Local')],\n",
       " 'In': ['',\n",
       "  'a = 1',\n",
       "  'locals()',\n",
       "  'locals().a',\n",
       "  \"locals()['a']\",\n",
       "  'if (\\'a\\' in locals()): print (\"Is\")',\n",
       "  'if (\\'b\\' in locals()): print (\"Is\")',\n",
       "  'a = 1\\nlocals()',\n",
       "  'a = 1\\nb = 2\\nlocals()'],\n",
       " 'Out': {2: {...}, 4: 1, 7: {...}},\n",
       " 'get_ipython': <bound method InteractiveShell.get_ipython of <ipykernel.zmqshell.ZMQInteractiveShell object at 0x10fb264d0>>,\n",
       " 'exit': <IPython.core.autocall.ZMQExitAutocall at 0x10fb61850>,\n",
       " 'quit': <IPython.core.autocall.ZMQExitAutocall at 0x10fb61850>,\n",
       " 'open': <function io.open(file, mode='r', buffering=-1, encoding=None, errors=None, newline=None, closefd=True, opener=None)>,\n",
       " '_': {...},\n",
       " '__': 1,\n",
       " '___': {...},\n",
       " '__vsc_ipynb_file__': '/Users/mireiasanchez/Documents/pablo/TA_Lib_Local/testflow.ipynb',\n",
       " '_i': 'a = 1\\nlocals()',\n",
       " '_ii': 'if (\\'b\\' in locals()): print (\"Is\")',\n",
       " '_iii': 'if (\\'a\\' in locals()): print (\"Is\")',\n",
       " '_i1': 'a = 1',\n",
       " 'a': 1,\n",
       " '_i2': 'locals()',\n",
       " '_2': {...},\n",
       " '_i3': 'locals().a',\n",
       " '_i4': \"locals()['a']\",\n",
       " '_4': 1,\n",
       " '_i5': 'if (\\'a\\' in locals()): print (\"Is\")',\n",
       " '_i6': 'if (\\'b\\' in locals()): print (\"Is\")',\n",
       " '_i7': 'a = 1\\nlocals()',\n",
       " '_7': {...},\n",
       " '_i8': 'a = 1\\nb = 2\\nlocals()',\n",
       " 'b': 2}"
      ]
     },
     "execution_count": 8,
     "metadata": {},
     "output_type": "execute_result"
    }
   ],
   "source": [
    "#Testing ways to detect if data are cached\n",
    "\n",
    "a = 1\n",
    "b = 2\n",
    "locals()\n",
    "\n"
   ]
  },
  {
   "cell_type": "code",
   "execution_count": 31,
   "metadata": {},
   "outputs": [
    {
     "data": {
      "text/plain": [
       "False"
      ]
     },
     "execution_count": 31,
     "metadata": {},
     "output_type": "execute_result"
    }
   ],
   "source": [
    "all([x in locals() for x in ['a', 'b']])"
   ]
  },
  {
   "cell_type": "code",
   "execution_count": 33,
   "metadata": {},
   "outputs": [
    {
     "data": {
      "text/plain": [
       "False"
      ]
     },
     "execution_count": 33,
     "metadata": {},
     "output_type": "execute_result"
    }
   ],
   "source": [
    "all(x in locals() for x in ['a', 'b'])"
   ]
  },
  {
   "cell_type": "code",
   "execution_count": 30,
   "metadata": {},
   "outputs": [
    {
     "data": {
      "text/plain": [
       "True"
      ]
     },
     "execution_count": 30,
     "metadata": {},
     "output_type": "execute_result"
    }
   ],
   "source": [
    "all([a==1, b==2])"
   ]
  },
  {
   "cell_type": "code",
   "execution_count": 21,
   "metadata": {},
   "outputs": [
    {
     "name": "stdout",
     "output_type": "stream",
     "text": [
      "True\n",
      "True\n"
     ]
    }
   ],
   "source": [
    "for x in ['a', 'b']:\n",
    "    print(x in locals())"
   ]
  },
  {
   "cell_type": "code",
   "execution_count": 27,
   "metadata": {},
   "outputs": [
    {
     "name": "stdout",
     "output_type": "stream",
     "text": [
      "2\n"
     ]
    }
   ],
   "source": [
    "print(b)"
   ]
  },
  {
   "cell_type": "code",
   "execution_count": null,
   "metadata": {},
   "outputs": [],
   "source": [
    "#Testing goodness of OBV calculation\n",
    "\n",
    "\"\"\" companyTest ='ABBV'\n",
    "test = pd.DataFrame({'volume': volumes[companyTest], 'close':closes[companyTest], 'obv':OBV_df[companyTest]})\n",
    "test.to_csv('test.csv', decimal=',', sep='.') \"\"\""
   ]
  }
 ],
 "metadata": {
  "kernelspec": {
   "display_name": "Python 3",
   "language": "python",
   "name": "python3"
  },
  "language_info": {
   "codemirror_mode": {
    "name": "ipython",
    "version": 3
   },
   "file_extension": ".py",
   "mimetype": "text/x-python",
   "name": "python",
   "nbconvert_exporter": "python",
   "pygments_lexer": "ipython3",
   "version": "3.11.3"
  },
  "orig_nbformat": 4
 },
 "nbformat": 4,
 "nbformat_minor": 2
}
