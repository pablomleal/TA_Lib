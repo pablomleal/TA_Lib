{
 "cells": [
  {
   "cell_type": "code",
   "execution_count": null,
   "metadata": {},
   "outputs": [],
   "source": [
    "# diff = pd.DataFrame(columns=rawdata.columns, index=[\"Name\", \"3d variation\",\"7d variation\",\"14d variation\",\"28d variation\",\"50d variation\"])\n",
    "\n",
    "# diff.iloc[0] = tickers_df['Name']\n",
    "# diff.iloc[1] = 100*(rawdata.iloc[-1]-rawdata.iloc[-3])/rawdata.iloc[-3]\n",
    "# diff.iloc[2] = 100*(rawdata.iloc[-1]-rawdata.iloc[-5])/rawdata.iloc[-5]\n",
    "# diff.iloc[3] = 100*(rawdata.iloc[-1]-rawdata.iloc[-10])/rawdata.iloc[-10]\n",
    "# diff.iloc[4] = 100*(rawdata.iloc[-1]-rawdata.iloc[-20])/rawdata.iloc[-20]\n",
    "# diff.iloc[5] = 100*(rawdata.iloc[-1]-rawdata.iloc[-40])/rawdata.iloc[-40]\n",
    "# diff = diff.transpose()\n",
    "# diff\n",
    "# positives = diff[(diff['3d variation'] > 0) & (diff['7d variation'] > 0) & (diff['14d variation'] > 0) ]\n",
    "# positives.sort_values(by=['3d variation', '7d variation', '14d variation', '28d variation'],  ascending=False)\n"
   ]
  },
  {
   "cell_type": "code",
   "execution_count": null,
   "metadata": {},
   "outputs": [],
   "source": []
  }
 ],
 "metadata": {
  "language_info": {
   "name": "python"
  },
  "orig_nbformat": 4
 },
 "nbformat": 4,
 "nbformat_minor": 2
}
