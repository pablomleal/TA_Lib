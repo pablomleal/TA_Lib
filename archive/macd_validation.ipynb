{
 "cells": [
  {
   "cell_type": "code",
   "execution_count": null,
   "metadata": {},
   "outputs": [],
   "source": [
    "##PRobando con el MACD..\n",
    "\n",
    "import talib \n",
    "import matplotlib.pyplot as plt\n",
    "\n",
    "\n",
    "x = 'GOOG'\n",
    "x_axis = closes.index\n",
    "\n",
    "macd = talib.MACD(closes[x], 12, 26)\n",
    "\n",
    "fEMA = talib.EMA(closes[x], 12)\n",
    "sEMA = talib.EMA(closes[x], 26)\n",
    "macd_test = fEMA-sEMA\n",
    "macd_signal = talib.EMA(macd_test, 9)\n",
    "\n",
    "\n",
    "\n",
    "fig, axs = (plt.subplots(3, sharex=True))\n",
    "#Plotting price and EMA charts\n",
    "axs[0].set_title(tickers_df.loc[x]['Name'] + \" (\" + x +\")\")\n",
    "axs[0].plot(x_axis, EMA_df['Quick'][x], 'r')\n",
    "axs[0].plot(x_axis, EMA_df['Slow'][x], 'b')\n",
    "axs[0].plot(x_axis, closes[x], 'g')\n",
    "#axs[0].set_ylim([110,130])\n",
    "\n",
    "axs[1].plot(x_axis, macd[0], 'r')\n",
    "axs[1].plot(x_axis, macd[1], 'b')\n",
    "axs[1].bar(x_axis, macd[2])\n",
    "\n",
    "axs[2].plot(x_axis, macd_test, 'r')\n",
    "axs[2].plot(x_axis, macd_signal, 'g')\n",
    "axs[2].set_ylim([-1,5.5])\n",
    "\n",
    "#axs[0].set_ylim([0.5*maxlim, 1.25*maxlim])\n"
   ]
  }
 ],
 "metadata": {
  "language_info": {
   "name": "python"
  },
  "orig_nbformat": 4
 },
 "nbformat": 4,
 "nbformat_minor": 2
}
