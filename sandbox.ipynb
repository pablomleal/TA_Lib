{
 "cells": [
  {
   "cell_type": "code",
   "execution_count": null,
   "metadata": {},
   "outputs": [],
   "source": [
    "# diff = pd.DataFrame(columns=rawdata.columns, index=[\"Name\", \"3d variation\",\"7d variation\",\"14d variation\",\"28d variation\",\"50d variation\"])\n",
    "\n",
    "# diff.iloc[0] = tickers_df['Name']\n",
    "# diff.iloc[1] = 100*(rawdata.iloc[-1]-rawdata.iloc[-3])/rawdata.iloc[-3]\n",
    "# diff.iloc[2] = 100*(rawdata.iloc[-1]-rawdata.iloc[-5])/rawdata.iloc[-5]\n",
    "# diff.iloc[3] = 100*(rawdata.iloc[-1]-rawdata.iloc[-10])/rawdata.iloc[-10]\n",
    "# diff.iloc[4] = 100*(rawdata.iloc[-1]-rawdata.iloc[-20])/rawdata.iloc[-20]\n",
    "# diff.iloc[5] = 100*(rawdata.iloc[-1]-rawdata.iloc[-40])/rawdata.iloc[-40]\n",
    "# diff = diff.transpose()\n",
    "# diff\n",
    "# positives = diff[(diff['3d variation'] > 0) & (diff['7d variation'] > 0) & (diff['14d variation'] > 0) ]\n",
    "# positives.sort_values(by=['3d variation', '7d variation', '14d variation', '28d variation'],  ascending=False)\n"
   ]
  },
  {
   "cell_type": "code",
   "execution_count": 1,
   "metadata": {},
   "outputs": [
    {
     "ename": "AttributeError",
     "evalue": "module 'talib' has no attribute 'Indicators'",
     "output_type": "error",
     "traceback": [
      "\u001b[0;31m---------------------------------------------------------------------------\u001b[0m",
      "\u001b[0;31mAttributeError\u001b[0m                            Traceback (most recent call last)",
      "Cell \u001b[0;32mIn[1], line 21\u001b[0m\n\u001b[1;32m     18\u001b[0m SLOW_EMA_PERIOD \u001b[39m=\u001b[39m \u001b[39m26\u001b[39m\n\u001b[1;32m     20\u001b[0m prices \u001b[39m=\u001b[39m [\u001b[39m1330.95\u001b[39m, \u001b[39m1334.65\u001b[39m, \u001b[39m1340\u001b[39m, \u001b[39m1338.7\u001b[39m]\n\u001b[0;32m---> 21\u001b[0m talib\u001b[39m.\u001b[39;49mIndicators\u001b[39m.\u001b[39mMACD\u001b[39m.\u001b[39mhistogram(prices)\n",
      "\u001b[0;31mAttributeError\u001b[0m: module 'talib' has no attribute 'Indicators'"
     ]
    }
   ],
   "source": [
    "# import sys\n",
    "# print (sys.version)\n",
    "\n",
    "# Import libraries for Finance (Yahoo Finance) and Technical Analysis\n",
    "import yfinance as yf\n",
    "import talib\n",
    "\n",
    "# Import libraries for data handling and visualization\n",
    "import numpy as np\n",
    "import matplotlib.pyplot as plt\n",
    "import pandas as pd\n",
    "\n",
    "#Import internal functions to load data, etc\n",
    "#import initialize\n",
    "\n",
    "#Setting up constants\n",
    "QUICK_EMA_PERIOD = 14\n",
    "SLOW_EMA_PERIOD = 26\n",
    "\n",
    "prices = [1330.95, 1334.65, 1340, 1338.7]\n",
    "talib.Indicators.MACD.histogram(prices)\n"
   ]
  },
  {
   "cell_type": "code",
   "execution_count": null,
   "metadata": {},
   "outputs": [],
   "source": []
  }
 ],
 "metadata": {
  "kernelspec": {
   "display_name": "Python 3",
   "language": "python",
   "name": "python3"
  },
  "language_info": {
   "codemirror_mode": {
    "name": "ipython",
    "version": 3
   },
   "file_extension": ".py",
   "mimetype": "text/x-python",
   "name": "python",
   "nbconvert_exporter": "python",
   "pygments_lexer": "ipython3",
   "version": "3.11.3"
  },
  "orig_nbformat": 4
 },
 "nbformat": 4,
 "nbformat_minor": 2
}
